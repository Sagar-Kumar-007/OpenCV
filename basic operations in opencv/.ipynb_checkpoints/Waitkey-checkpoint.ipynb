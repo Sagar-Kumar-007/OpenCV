{
 "cells": [
  {
   "cell_type": "code",
   "execution_count": 1,
   "metadata": {
    "ExecuteTime": {
     "end_time": "2020-09-30T09:42:18.155013Z",
     "start_time": "2020-09-30T09:42:17.552208Z"
    }
   },
   "outputs": [],
   "source": [
    "import cv2"
   ]
  },
  {
   "cell_type": "code",
   "execution_count": 3,
   "metadata": {
    "ExecuteTime": {
     "end_time": "2020-09-28T12:31:15.006190Z",
     "start_time": "2020-09-28T12:31:14.837673Z"
    }
   },
   "outputs": [],
   "source": [
    "img=cv2.imread(\"Sagar.jpg\",1)"
   ]
  },
  {
   "cell_type": "code",
   "execution_count": 4,
   "metadata": {
    "ExecuteTime": {
     "end_time": "2020-09-28T12:31:21.590559Z",
     "start_time": "2020-09-28T12:31:15.836211Z"
    }
   },
   "outputs": [],
   "source": [
    "cv2.imshow(\"Sagar\",img)\n",
    "if cv2.waitKey(0) & 0xFF == ord('a'):\n",
    "    cv2.destroyAllWindows()"
   ]
  },
  {
   "cell_type": "code",
   "execution_count": 12,
   "metadata": {
    "ExecuteTime": {
     "end_time": "2020-09-30T09:46:52.965286Z",
     "start_time": "2020-09-30T09:46:51.464910Z"
    }
   },
   "outputs": [],
   "source": [
    "import cv2\n",
    "import numpy as np\n",
    "\n",
    "# Creating a black background\n",
    "img = np.zeros((512, 512))\n",
    "\n",
    "\n",
    "# Defining a function for the mouse event:\n",
    "def func(event, x, y,flag,param):\n",
    "    if cv2.EVENT_MOUSEMOVE == event:\n",
    "        cv2.circle(img, (x, y), 10, color=(255, 0, 0), thickness=5)\n",
    "\n",
    "\n",
    "# Set mouse callback:\n",
    "# First you need to create a new window using the method namedWindow\n",
    "cv2.namedWindow(\"Image\")\n",
    "cv2.setMouseCallback(\"Image\", func) # This uses a function with 5 parameters: Event (mention the event you want to set), coordinates of the mouse etc.\n",
    "while 1:\n",
    "    cv2.imshow(\"Image\", img)\n",
    "    if cv2.waitKey(1) & 0xFF == ord('s'):\n",
    "        break\n",
    "cv2.destroyAllWindows()\n"
   ]
  },
  {
   "cell_type": "code",
   "execution_count": null,
   "metadata": {},
   "outputs": [],
   "source": []
  }
 ],
 "metadata": {
  "kernelspec": {
   "display_name": "Python 3",
   "language": "python",
   "name": "python3"
  },
  "language_info": {
   "codemirror_mode": {
    "name": "ipython",
    "version": 3
   },
   "file_extension": ".py",
   "mimetype": "text/x-python",
   "name": "python",
   "nbconvert_exporter": "python",
   "pygments_lexer": "ipython3",
   "version": "3.7.7"
  },
  "toc": {
   "base_numbering": 1,
   "nav_menu": {},
   "number_sections": true,
   "sideBar": true,
   "skip_h1_title": false,
   "title_cell": "Table of Contents",
   "title_sidebar": "Contents",
   "toc_cell": false,
   "toc_position": {},
   "toc_section_display": true,
   "toc_window_display": false
  }
 },
 "nbformat": 4,
 "nbformat_minor": 4
}
